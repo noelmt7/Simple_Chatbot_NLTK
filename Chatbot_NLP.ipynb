{
  "nbformat": 4,
  "nbformat_minor": 0,
  "metadata": {
    "colab": {
      "provenance": [],
      "authorship_tag": "ABX9TyNlW2oFMM8rBq6UzaUJU3wQ",
      "include_colab_link": true
    },
    "kernelspec": {
      "name": "python3",
      "display_name": "Python 3"
    },
    "language_info": {
      "name": "python"
    }
  },
  "cells": [
    {
      "cell_type": "markdown",
      "metadata": {
        "id": "view-in-github",
        "colab_type": "text"
      },
      "source": [
        "<a href=\"https://colab.research.google.com/github/noelmt7/Simple_Chatbot_NLTK/blob/main/Chatbot_NLP.ipynb\" target=\"_parent\"><img src=\"https://colab.research.google.com/assets/colab-badge.svg\" alt=\"Open In Colab\"/></a>"
      ]
    },
    {
      "cell_type": "code",
      "source": [
        "import numpy as np\n",
        "import nltk\n",
        "import random\n",
        "import string\n",
        "\n",
        "from sklearn.feature_extraction.text import TfidfVectorizer\n",
        "from sklearn.metrics.pairwise import cosine_similarity"
      ],
      "metadata": {
        "id": "ryn-YYQwQQdS"
      },
      "execution_count": 25,
      "outputs": []
    },
    {
      "cell_type": "code",
      "source": [
        "file_path = '/content/chatbot.txt'\n",
        "\n",
        "f = open(file_path, 'r', errors = 'ignore')\n",
        "\n",
        "raw = f.read()\n",
        "\n",
        "raw = raw.lower()"
      ],
      "metadata": {
        "id": "KUpT2dv0Mroy"
      },
      "execution_count": 26,
      "outputs": []
    },
    {
      "cell_type": "code",
      "source": [
        "nltk.download('punkt')\n",
        "nltk.download('wordnet')"
      ],
      "metadata": {
        "colab": {
          "base_uri": "https://localhost:8080/"
        },
        "id": "u-e2nmkqQmAM",
        "outputId": "794c842f-7365-4bc4-d6c4-fd04fd551271"
      },
      "execution_count": 27,
      "outputs": [
        {
          "output_type": "stream",
          "name": "stderr",
          "text": [
            "[nltk_data] Downloading package punkt to /root/nltk_data...\n",
            "[nltk_data]   Package punkt is already up-to-date!\n",
            "[nltk_data] Downloading package wordnet to /root/nltk_data...\n",
            "[nltk_data]   Package wordnet is already up-to-date!\n"
          ]
        },
        {
          "output_type": "execute_result",
          "data": {
            "text/plain": [
              "True"
            ]
          },
          "metadata": {},
          "execution_count": 27
        }
      ]
    },
    {
      "cell_type": "code",
      "source": [
        "sentence_tok = nltk.sent_tokenize(raw)\n",
        "\n",
        "sentence_tok[:2]\n"
      ],
      "metadata": {
        "colab": {
          "base_uri": "https://localhost:8080/"
        },
        "id": "cS_UyQmJQ8iJ",
        "outputId": "6303104b-d237-4320-d28a-736feace601d"
      },
      "execution_count": 28,
      "outputs": [
        {
          "output_type": "execute_result",
          "data": {
            "text/plain": [
              "['a chatbot (also known as a talkbot, chatterbot, bot, im bot, interactive agent, or artificial conversational entity) is a computer program or an artificial intelligence which conducts a conversation via auditory or textual methods.',\n",
              " 'such programs are often designed to convincingly simulate how a human would behave as a conversational partner, thereby passing the turing test.']"
            ]
          },
          "metadata": {},
          "execution_count": 28
        }
      ]
    },
    {
      "cell_type": "code",
      "source": [
        "word_tok = nltk.word_tokenize(raw)\n",
        "word_tok[:2]\n"
      ],
      "metadata": {
        "colab": {
          "base_uri": "https://localhost:8080/"
        },
        "id": "gUI9Z23_RGKm",
        "outputId": "31acdd9e-0ccf-4f3c-e83c-5609ea465153"
      },
      "execution_count": 29,
      "outputs": [
        {
          "output_type": "execute_result",
          "data": {
            "text/plain": [
              "['a', 'chatbot']"
            ]
          },
          "metadata": {},
          "execution_count": 29
        }
      ]
    },
    {
      "cell_type": "markdown",
      "source": [
        "Lemmatization is the process of reducing a word to its base or dictionary form, known as the lemma. For example, the lemma of the word “cats” is “cat”, and the lemma of “running” is “run”.2 Jan 2024"
      ],
      "metadata": {
        "id": "U3RSCxXNSYSU"
      }
    },
    {
      "cell_type": "code",
      "source": [
        "lemmer = nltk.stem.WordNetLemmatizer()\n",
        "\n",
        "remove_punct_dict = dict((ord(punct), None) for punct in string.punctuation)"
      ],
      "metadata": {
        "id": "VzALJV_FRluk"
      },
      "execution_count": 30,
      "outputs": []
    },
    {
      "cell_type": "code",
      "source": [
        "def lem_tokens(tokens):\n",
        "  return [lemmer.lemmatize(token) for token in tokens]"
      ],
      "metadata": {
        "id": "Gk6pKDxuSIoL"
      },
      "execution_count": 47,
      "outputs": []
    },
    {
      "cell_type": "code",
      "source": [
        "def lem_normalize(text):\n",
        "  return lem_tokens(nltk.word_tokenize(text.lower().translate(remove_punct_dict)))"
      ],
      "metadata": {
        "id": "9gBhSbZcS0on"
      },
      "execution_count": 48,
      "outputs": []
    },
    {
      "cell_type": "code",
      "source": [
        "greeting_input = ('hello', 'hi', 'greetings', 'sup', 'what\\'s up', 'hey',)\n",
        "greeting_response = ['hi', 'hey', '*nods*', 'hi there', 'hello', 'I am glad! You are talking to me']"
      ],
      "metadata": {
        "id": "9wis9jmtTf8O"
      },
      "execution_count": 49,
      "outputs": []
    },
    {
      "cell_type": "code",
      "source": [
        "def greeting(sentence):\n",
        "  for word in sentence.split():\n",
        "    if word.lower() in greeting_input:\n",
        "      return random.choice(greeting_response)"
      ],
      "metadata": {
        "id": "rb1Lqpp1Txpx"
      },
      "execution_count": 50,
      "outputs": []
    },
    {
      "cell_type": "code",
      "source": [
        "\n",
        "def response(user_response):\n",
        "    robo_response = ''\n",
        "    sentence_tok.append(user_response)\n",
        "\n",
        "    vectorizer = TfidfVectorizer(tokenizer=lem_normalize, stop_words=\"english\")\n",
        "    tfidf = vectorizer.fit_transform(sentence_tok)\n",
        "\n",
        "    values = cosine_similarity(tfidf[-1], tfidf)\n",
        "    idx = values.argsort()[0][-2]\n",
        "    flat = values.flatten()\n",
        "    flat.sort()\n",
        "    req_tfidf = flat[-2]\n",
        "\n",
        "    if req_tfidf == 0:\n",
        "        robo_response = '{} Ask the correct questions, dude'.format(robo_response)\n",
        "    else:\n",
        "        robo_response = robo_response + sentence_tok[idx]\n",
        "\n",
        "    return robo_response\n"
      ],
      "metadata": {
        "id": "bHU4DPdvUJU8"
      },
      "execution_count": 51,
      "outputs": []
    },
    {
      "cell_type": "code",
      "source": [
        "flag = True\n",
        "print(\"Bot : What's up? I am your personal chatbot, how can I help you?\")\n",
        "\n",
        "# interactions = [\n",
        "#     'hi',\n",
        "#     'what is chatbot?',\n",
        "#     'describe its design, please',\n",
        "#     'what about alan turing?',\n",
        "#     'and facebook?',\n",
        "#     'sounds awesome',\n",
        "#     'bye',\n",
        "# ]\n",
        "while flag:\n",
        "    user_response = input('USER : ')\n",
        "    print('USER: {}'.format(user_response))\n",
        "    if user_response != 'bye':\n",
        "        if user_response == 'thanks' or user_response == 'thank you':\n",
        "            flag = False\n",
        "            print('BOT: You are welcome...')\n",
        "        else:\n",
        "            if greeting(user_response) is not None:\n",
        "                print('ROBO: {}'.format(greeting(user_response)))\n",
        "            else:\n",
        "                print('ROBO: ', end='')\n",
        "                print(response(user_response))\n",
        "                sentence_tok.remove(user_response)\n",
        "    else:\n",
        "        flag = False\n",
        "        print('BOT: bye!')\n"
      ],
      "metadata": {
        "colab": {
          "base_uri": "https://localhost:8080/"
        },
        "id": "GVI88oJPUnpv",
        "outputId": "17f548be-0d0e-4258-bf41-b005354aca7b"
      },
      "execution_count": 54,
      "outputs": [
        {
          "output_type": "stream",
          "name": "stdout",
          "text": [
            "Bot : What's up? I am your personal chatbot, how can I help you?\n",
            "USER : hi \n",
            "USER: hi \n",
            "ROBO: I am glad! You are talking to me\n",
            "USER : what is analytics?\n",
            "USER: what is analytics?\n",
            "ROBO: it can be divided into design, building, analytics and maintenance.\n",
            "USER : What is api?\n",
            "USER: What is api?\n",
            "ROBO: , Ask the correct questions, dude\n",
            "USER : Toys?\n",
            "USER: Toys?\n",
            "ROBO: toys\n",
            "chatbots have also been incorporated into devices not primarily meant for computing such as toys.\n",
            "USER : Design?\n",
            "USER: Design?\n",
            "ROBO: design\n",
            "the chatbot design is the process that defines the interaction between the user and the chatbot.the chatbot designer will define the chatbot personality, the questions that will be asked to the users, and the overall interaction.it can be viewed as a subset of the conversational design.\n",
            "USER : bye\n",
            "USER: bye\n",
            "BOT: bye!\n"
          ]
        }
      ]
    }
  ]
}